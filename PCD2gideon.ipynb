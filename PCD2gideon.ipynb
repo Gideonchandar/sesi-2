{
  "nbformat": 4,
  "nbformat_minor": 0,
  "metadata": {
    "colab": {
      "provenance": []
    },
    "kernelspec": {
      "name": "python3",
      "display_name": "Python 3"
    },
    "language_info": {
      "name": "python"
    }
  },
  "cells": [
    {
      "cell_type": "code",
      "source": [
        "from google.colab import drive\n",
        "drive.mount('/content/drive')"
      ],
      "metadata": {
        "colab": {
          "base_uri": "https://localhost:8080/"
        },
        "id": "B5uFSlFN2EhV",
        "outputId": "f96b74ad-6725-41c1-9ecd-4258844191dc"
      },
      "execution_count": 3,
      "outputs": [
        {
          "output_type": "stream",
          "name": "stdout",
          "text": [
            "Drive already mounted at /content/drive; to attempt to forcibly remount, call drive.mount(\"/content/drive\", force_remount=True).\n"
          ]
        }
      ]
    },
    {
      "cell_type": "code",
      "source": [
        "import numpy as np\n",
        "import cv2\n",
        "import os\n",
        "\n",
        "# Correct paths (escape backslashes or use raw strings)\n",
        "paths = [\n",
        "    r\"/content/drive/MyDrive/semester 5/pengelolhan citra digital/sesi 2/daun_kenikir/daun_kenikir.jpeg\",\n",
        "    r\"/content/drive/MyDrive/semester 5/pengelolhan citra digital/sesi 2/daun_pepaya/daun_pepaya.jpeg\",\n",
        "    r\"/content/drive/MyDrive/semester 5/pengelolhan citra digital/sesi 2/daun_singkong/daun_singkong.jpeg\"\n",
        "]\n",
        "# Memproses setiap gambar\n",
        "def process_image(path):\n",
        "    # Membaca gambar\n",
        "    image_source = cv2.imread(path)\n",
        "\n",
        "    if image_source is None:\n",
        "        print(f\"Error: Gambar {path} tidak ditemukan atau gagal dibaca!\")\n",
        "        return\n",
        "\n",
        "    # Memisahkan channel RGB\n",
        "    red_ch = image_source[:, :, 2]  # OpenCV uses BGR by default\n",
        "    green_ch = image_source[:, :, 1]\n",
        "    blue_ch = image_source[:, :, 0]\n",
        "\n",
        "    # Membuat gambar untuk setiap channel\n",
        "    image_red = np.zeros_like(image_source)\n",
        "    image_green = np.zeros_like(image_source)\n",
        "    image_blue = np.zeros_like(image_source)\n",
        "\n",
        "    image_red[:, :, 2] = red_ch\n",
        "    image_green[:, :, 1] = green_ch\n",
        "    image_blue[:, :, 0] = blue_ch\n",
        "\n",
        "    # Konversi ke grayscale\n",
        "    image_grayscale = cv2.cvtColor(image_source, cv2.COLOR_BGR2GRAY)\n",
        "\n",
        "    # Konversi ke threshold (biner)\n",
        "    _, image_threshold = cv2.threshold(image_grayscale, 127, 255, cv2.THRESH_BINARY)\n",
        "\n",
        "    # Membuat nama file tanpa ekstensi untuk penyimpanan\n",
        "    file_name = os.path.basename(path).split('.')[0]\n",
        "\n",
        "    # Simpan gambar hasil representasi setiap channel dan konversi\n",
        "    cv2.imwrite(f\"{file_name}_red.jpg\", image_red)\n",
        "    cv2.imwrite(f\"{file_name}_green.jpg\", image_green)\n",
        "    cv2.imwrite(f\"{file_name}_blue.jpg\", image_blue)\n",
        "    cv2.imwrite(f\"{file_name}_grayscale.jpg\", image_grayscale)\n",
        "    cv2.imwrite(f\"{file_name}_threshold.jpg\", image_threshold)\n",
        "\n",
        "    print(f\"Gambar {file_name} telah diproses.\")\n",
        "\n",
        "# Proses semua gambar satu per satu\n",
        "for path in paths:\n",
        "    process_image(path)\n",
        "\n",
        "print(\"Selesai!\")"
      ],
      "metadata": {
        "colab": {
          "base_uri": "https://localhost:8080/"
        },
        "id": "N0IKvCSH2IW2",
        "outputId": "e866a5dc-c981-42f8-c9bb-41b6c7aadeef"
      },
      "execution_count": 4,
      "outputs": [
        {
          "output_type": "stream",
          "name": "stdout",
          "text": [
            "Gambar daun_kenikir telah diproses.\n",
            "Gambar daun_pepaya telah diproses.\n",
            "Gambar daun_singkong telah diproses.\n",
            "Selesai!\n"
          ]
        }
      ]
    }
  ]
}